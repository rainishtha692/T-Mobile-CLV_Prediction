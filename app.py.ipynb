{
 "cells": [
  {
   "cell_type": "markdown",
   "id": "8234f427-d8a9-49ec-ac03-4b1b80933dee",
   "metadata": {},
   "source": [
    "expected_cols = [ 'gender', 'SeniorCitizen', 'Partner', 'Dependents', 'tenure', 'PhoneService',\n",
    " 'OnlineSecurity', 'OnlineBackup', 'DeviceProtection', 'TechSupport',\n",
    " 'StreamingTV', 'StreamingMovies', 'PaperlessBilling', 'MonthlyCharges',\n",
    " 'TotalCharges', 'Contract_One year', 'Contract_Two year',\n",
    " 'PaymentMethod_Credit card (automatic)', 'PaymentMethod_Electronic check',\n",
    " 'PaymentMethod_Mailed check', 'InternetService_Fiber optic',\n",
    " 'InternetService_No', 'AvgMonthlySpend', 'TotalAddons',\n",
    " 'TenureGroup_13-24m', 'TenureGroup_25-48m', 'TenureGroup_49-60m',\n",
    " 'TenureGroup_61-72m', 'HasFiberOptic', 'IsAutoPay', 'IsSenior',\n",
    " 'MultipleLines_Yes', 'Contract_Two year.1', 'PaymentMethod_E-Check',\n",
    " 'PaymentMethod_Mail Check', 'InternetService_No Internet' ]\n",
    "\n",
    "df = df[expected_cols]  # ensure correct column order"
   ]
  },
  {
   "cell_type": "markdown",
   "id": "b4002c0d-5e20-435c-acc1-ade1eb4241cb",
   "metadata": {},
   "source": [
    "##from flask import Flask, request, jsonify\n",
    "import joblib\n",
    "import pandas as pd\n",
    "\n",
    "app = Flask(__name__)\n",
    "model = joblib.load(\"xgboost_clv_model_final.pkl\")\n",
    "\n",
    "@app.route(\"/\")\n",
    "def home():\n",
    "    return \"✅ CLV Prediction API is Running!\"\n",
    "\n",
    "@app.route(\"/predict\", methods=[\"POST\"])\n",
    "def predict():\n",
    "    try:\n",
    "        data = request.get_json()\n",
    "        df = pd.DataFrame([data])\n",
    "        prediction = model.predict(df)[0]\n",
    "        return jsonify({\"Predicted_CLV\": round(prediction, 2)})\n",
    "    except Exception as e:\n",
    "        return jsonify({\"error\": str(e)})\n",
    "\n",
    "if __name__ == \"__main__\":\n",
    "    app.run(host=\"0.0.0.0\", port=5000)"
   ]
  },
  {
   "cell_type": "code",
   "execution_count": 1,
   "id": "97c639bb-5e2f-46e2-8dbd-3882fcb1ce0e",
   "metadata": {},
   "outputs": [
    {
     "name": "stdout",
     "output_type": "stream",
     "text": [
      " * Serving Flask app '__main__'\n",
      " * Debug mode: on\n"
     ]
    },
    {
     "name": "stderr",
     "output_type": "stream",
     "text": [
      "WARNING: This is a development server. Do not use it in a production deployment. Use a production WSGI server instead.\n",
      " * Running on all addresses (0.0.0.0)\n",
      " * Running on http://127.0.0.1:5000\n",
      " * Running on http://192.168.2.12:5000\n",
      "Press CTRL+C to quit\n",
      " * Restarting with watchdog (windowsapi)\n"
     ]
    },
    {
     "ename": "SystemExit",
     "evalue": "1",
     "output_type": "error",
     "traceback": [
      "An exception has occurred, use %tb to see the full traceback.\n",
      "\u001b[1;31mSystemExit\u001b[0m\u001b[1;31m:\u001b[0m 1\n"
     ]
    },
    {
     "name": "stderr",
     "output_type": "stream",
     "text": [
      "C:\\Users\\Acer\\New folder\\Lib\\site-packages\\IPython\\core\\interactiveshell.py:3585: UserWarning: To exit: use 'exit', 'quit', or Ctrl-D.\n",
      "  warn(\"To exit: use 'exit', 'quit', or Ctrl-D.\", stacklevel=1)\n"
     ]
    }
   ],
   "source": [
    "from flask import Flask, request, jsonify\n",
    "import pandas as pd\n",
    "import pickle\n",
    "\n",
    "app = Flask(__name__)\n",
    "model = pickle.load(open('xgboost_clv_model_final.pkl', 'rb'))\n",
    "\n",
    "@app.route(\"/\")\n",
    "def home():\n",
    "    return \"✅ CLV Prediction API is Running!\"\n",
    "\n",
    "@app.route(\"/predict\", methods=[\"POST\"])\n",
    "def predict():\n",
    "    try:\n",
    "        data = request.get_json()           # This expects a JSON dict\n",
    "        df = pd.DataFrame([data])           # Converts it into a DataFrame\n",
    "\n",
    "        prediction = model.predict(df)[0]\n",
    "        return jsonify({\"Predicted_CLV\": round(prediction, 2)})\n",
    "    \n",
    "    except Exception as e:\n",
    "        return jsonify({\"error\": str(e)}), 400\n",
    "\n",
    "if __name__ == \"__main__\":\n",
    "    app.run(host=\"0.0.0.0\", port=5000, debug=True)"
   ]
  },
  {
   "cell_type": "code",
   "execution_count": null,
   "id": "00a9535c-53dd-4fff-9255-41f7c2974935",
   "metadata": {},
   "outputs": [],
   "source": []
  }
 ],
 "metadata": {
  "kernelspec": {
   "display_name": "Python 3 (ipykernel)",
   "language": "python",
   "name": "python3"
  },
  "language_info": {
   "codemirror_mode": {
    "name": "ipython",
    "version": 3
   },
   "file_extension": ".py",
   "mimetype": "text/x-python",
   "name": "python",
   "nbconvert_exporter": "python",
   "pygments_lexer": "ipython3",
   "version": "3.12.7"
  }
 },
 "nbformat": 4,
 "nbformat_minor": 5
}

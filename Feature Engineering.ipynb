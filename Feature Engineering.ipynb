{
 "cells": [
  {
   "cell_type": "markdown",
   "id": "500f7c51-7604-4b42-8da8-bd050dbff317",
   "metadata": {},
   "source": [
    "### Feature engineering \n",
    "Capture customer behavior (spending, contract length)\n",
    "\n",
    "Reflect customer type (demographics, dependents, partner)\n",
    "\n",
    "Describe service usage (addons, internet type)\n",
    "\n",
    "Add business logic insight (e.g., average spend, service bundles)"
   ]
  },
  {
   "cell_type": "code",
   "execution_count": 1,
   "id": "9ad42884-612e-472a-bce3-c2824c3be893",
   "metadata": {},
   "outputs": [],
   "source": [
    "## Load the CSV File First\n",
    "import pandas as pd\n",
    "\n",
    "# Load your saved feature-engineered file\n",
    "df = pd.read_csv(\"customer_clv_feature_engineered.csv\")"
   ]
  },
  {
   "cell_type": "markdown",
   "id": "797c4c58-fec0-4834-b696-10561133b8e7",
   "metadata": {},
   "source": [
    "### Not all customers have the same tenure. This feature tells us how much a customer spends on average per month, no matter how long they’ve stayed."
   ]
  },
  {
   "cell_type": "code",
   "execution_count": 3,
   "id": "0fa9782c-068e-464a-9865-4f3b8a9cc955",
   "metadata": {},
   "outputs": [
    {
     "name": "stderr",
     "output_type": "stream",
     "text": [
      "C:\\Users\\Acer\\AppData\\Local\\Temp\\ipykernel_15696\\2235519421.py:3: FutureWarning: A value is trying to be set on a copy of a DataFrame or Series through chained assignment using an inplace method.\n",
      "The behavior will change in pandas 3.0. This inplace method will never work because the intermediate object on which we are setting values always behaves as a copy.\n",
      "\n",
      "For example, when doing 'df[col].method(value, inplace=True)', try using 'df.method({col: value}, inplace=True)' or df[col] = df[col].method(value) instead, to perform the operation inplace on the original object.\n",
      "\n",
      "\n",
      "  df['AvgMonthlySpend'].fillna(0, inplace=True)  # Handle divide-by-zero\n"
     ]
    }
   ],
   "source": [
    "##Create AvgMonthlySpend\n",
    "df['AvgMonthlySpend'] = df['TotalCharges'] / df['tenure']\n",
    "df['AvgMonthlySpend'].fillna(0, inplace=True)  # Handle divide-by-zero"
   ]
  },
  {
   "cell_type": "markdown",
   "id": "b28eeecc-a528-4727-b170-715a9b677319",
   "metadata": {},
   "source": [
    "### tenure is numeric, but grouping it into ranges (e.g. 0–12 months, 13–24 months) shows customer lifecycle stages."
   ]
  },
  {
   "cell_type": "code",
   "execution_count": 4,
   "id": "42afc444-134e-4f34-81e0-c1b800503dd9",
   "metadata": {},
   "outputs": [],
   "source": [
    "##  3. Create TenureGroup (binned column)\n",
    "df['TenureGroup'] = pd.cut(df['tenure'],\n",
    "                           bins=[0, 12, 24, 48, 60, 72],\n",
    "                           labels=['0-12m', '13-24m', '25-48m', '49-60m', '61-72m'])"
   ]
  },
  {
   "cell_type": "markdown",
   "id": "ad270092-68bb-40d7-b163-dd2c651469c5",
   "metadata": {},
   "source": [
    "### Machine learning models don’t understand text. They need numbers."
   ]
  },
  {
   "cell_type": "code",
   "execution_count": 5,
   "id": "a49a0f06-2682-428d-b5fd-9825497fdbb2",
   "metadata": {},
   "outputs": [],
   "source": [
    "##  4. Encode Add-on Service Columns\n",
    "addon_cols = ['OnlineSecurity', 'OnlineBackup', 'DeviceProtection',\n",
    "              'TechSupport', 'StreamingTV', 'StreamingMovies']\n",
    "\n",
    "for col in addon_cols:\n",
    "    df[col] = df[col].map({'Yes': 1, 'No': 0})"
   ]
  },
  {
   "cell_type": "markdown",
   "id": "bb06963e-cf40-4d5d-8031-704bcde4d38a",
   "metadata": {},
   "source": [
    "### The more services a customer uses, the more invested they are. This usually leads to higher CLV.\n",
    "## Instead of analyzing 6 separate features, we count how many optional services each customer uses."
   ]
  },
  {
   "cell_type": "code",
   "execution_count": 6,
   "id": "7699162b-0023-40ee-910f-13a7edcc1dbf",
   "metadata": {},
   "outputs": [],
   "source": [
    "##  5. Create TotalAddons\n",
    "df['TotalAddons'] = df[addon_cols].sum(axis=1)"
   ]
  },
  {
   "cell_type": "code",
   "execution_count": 7,
   "id": "569e7a15-cd95-49ae-ae43-c198dd16e086",
   "metadata": {},
   "outputs": [],
   "source": [
    "#6. One-Hot Encode TenureGroup\n",
    "df = pd.get_dummies(df, columns=['TenureGroup'], drop_first=True)"
   ]
  },
  {
   "cell_type": "code",
   "execution_count": 8,
   "id": "b0b25755-9da4-4572-8522-618bee63b3e6",
   "metadata": {},
   "outputs": [],
   "source": [
    "### Create Binary Flags\n",
    "# Create binary flags based on existing one-hot columns\n",
    "df['HasFiberOptic'] = df['InternetService_Fiber optic'].astype(int)\n",
    "df['IsAutoPay'] = df['PaymentMethod_Credit card (automatic)'].astype(int)\n",
    "df['IsSenior'] = df['SeniorCitizen']  # Already 0/1"
   ]
  },
  {
   "cell_type": "code",
   "execution_count": 10,
   "id": "27d054f8-6a18-4684-b193-21b7b59b4e94",
   "metadata": {},
   "outputs": [],
   "source": [
    "##\n",
    "# One-hot encode remaining categorical columns\n",
    "categorical_cols = ['MultipleLines', 'Contract', 'PaymentMethod', 'InternetService']\n",
    "df = pd.get_dummies(df, columns=categorical_cols, drop_first=True)\n",
    "\n",
    "# Save final version\n",
    "df.to_csv(\"customer_clv_model_ready.csv\", index=False)"
   ]
  }
 ],
 "metadata": {
  "kernelspec": {
   "display_name": "Python 3 (ipykernel)",
   "language": "python",
   "name": "python3"
  },
  "language_info": {
   "codemirror_mode": {
    "name": "ipython",
    "version": 3
   },
   "file_extension": ".py",
   "mimetype": "text/x-python",
   "name": "python",
   "nbconvert_exporter": "python",
   "pygments_lexer": "ipython3",
   "version": "3.12.7"
  }
 },
 "nbformat": 4,
 "nbformat_minor": 5
}

{
 "cells": [
  {
   "cell_type": "code",
   "execution_count": null,
   "id": "86085eca-6ed3-4937-ae79-f9b22ccf3b95",
   "metadata": {},
   "outputs": [],
   "source": [
    "## Load Telco Customer Dataset\n",
    "import pandas as pd\n",
    "df_telco = pd.read_csv(\"Customer_Data.csv\")\n",
    "df_telco.info()"
   ]
  },
  {
   "cell_type": "code",
   "execution_count": null,
   "id": "88d70fa3-30e3-438f-88b1-a937e0b514df",
   "metadata": {},
   "outputs": [],
   "source": [
    "## Explore the Structure\n",
    "df_telco.describe()\n",
    "df_telco.isnull().sum()\n",
    "df_telco.columns"
   ]
  },
  {
   "cell_type": "code",
   "execution_count": 1,
   "id": "f16694b1-6390-47ca-9794-b6eafc24f935",
   "metadata": {},
   "outputs": [
    {
     "name": "stdout",
     "output_type": "stream",
     "text": [
      "✅ Total reviews scraped: 54\n",
      "                                         review_text\n",
      "0  Looks like you’re in Canada.Go to the Canadian...\n",
      "1  Companies on Trustpilot can’t offer incentives...\n",
      "2  Just cancelled service with T-Mobile last mont...\n",
      "3  Stood at T-Mobile in Panama City Beach for 45 ...\n",
      "4  I went in to t-mobile Alameda and Wadsworth an...\n"
     ]
    }
   ],
   "source": [
    "# Step 1: Imports libraries\n",
    "from selenium import webdriver\n",
    "from selenium.webdriver.chrome.service import Service\n",
    "from selenium.webdriver.common.by import By\n",
    "from selenium.webdriver.chrome.options import Options\n",
    "from bs4 import BeautifulSoup\n",
    "import pandas as pd\n",
    "import time\n",
    "\n",
    "# Step 2: Setup ChromeDriver\n",
    "driver_path = r\"C:\\Users\\Acer\\chromedriver-win64\\chromedriver.exe\"  \n",
    "options = Options()\n",
    "options.add_argument(\"--start-maximized\")\n",
    "service = Service(driver_path)\n",
    "driver = webdriver.Chrome(service=service, options=options)\n",
    "\n",
    "# Step 3: Open the Trustpilot reviews page\n",
    "url = \"https://www.trustpilot.com/review/www.t-mobile.com\"\n",
    "driver.get(url)\n",
    "\n",
    "#  Step 4: Wait and scroll down to load reviews\n",
    "time.sleep(5)\n",
    "for _ in range(4):\n",
    "    driver.execute_script(\"window.scrollBy(0, 600);\")\n",
    "    time.sleep(2)\n",
    "time.sleep(5)  # Additional buffer time\n",
    "\n",
    "# Step 5: Use BeautifulSoup to parse the loaded page\n",
    "soup = BeautifulSoup(driver.page_source, \"html.parser\")\n",
    "review_blocks = soup.find_all(\"p\")\n",
    "\n",
    "#  Step 6: Extract and filter review text\n",
    "reviews = [r.get_text(strip=True) for r in review_blocks if len(r.get_text(strip=True)) > 30]\n",
    "df_reviews = pd.DataFrame({'review_text': reviews})\n",
    "\n",
    "#  Step 7: Output results\n",
    "print(\"Total reviews scraped:\", len(df_reviews))\n",
    "print(df_reviews.head())\n",
    "\n",
    "# Step 8: Quit browser\n",
    "driver.quit()"
   ]
  },
  {
   "cell_type": "code",
   "execution_count": 2,
   "id": "2a236651-e538-490c-8f62-626a85af1ba4",
   "metadata": {},
   "outputs": [],
   "source": [
    "df_reviews.to_csv(\"tmobile_reviews.csv\", index=False)"
   ]
  }
 ],
 "metadata": {
  "kernelspec": {
   "display_name": "Python 3 (ipykernel)",
   "language": "python",
   "name": "python3"
  },
  "language_info": {
   "codemirror_mode": {
    "name": "ipython",
    "version": 3
   },
   "file_extension": ".py",
   "mimetype": "text/x-python",
   "name": "python",
   "nbconvert_exporter": "python",
   "pygments_lexer": "ipython3",
   "version": "3.12.7"
  }
 },
 "nbformat": 4,
 "nbformat_minor": 5
}

{
 "cells": [
  {
   "cell_type": "code",
   "execution_count": 3,
   "id": "84f9b6f2-ae3a-453d-9677-a293d5062f7f",
   "metadata": {},
   "outputs": [],
   "source": [
    "import pandas as pd\n",
    "\n",
    "# Load the customer prediction dataset\n",
    "customer_df = pd.read_csv(\"customer_clv_with_predictions.csv\")\n",
    "\n",
    "# Load Trustpilot reviews\n",
    "reviews_df = pd.read_csv(\"tmobile_reviews.csv\")  # Ensure this file has 'review_text' column"
   ]
  },
  {
   "cell_type": "code",
   "execution_count": 4,
   "id": "73e813ba-3d9c-419a-a36a-233dac4061e1",
   "metadata": {},
   "outputs": [],
   "source": [
    "from vaderSentiment.vaderSentiment import SentimentIntensityAnalyzer\n",
    "\n",
    "analyzer = SentimentIntensityAnalyzer()\n",
    "\n",
    "# Apply sentiment analysis\n",
    "def analyze_sentiment(text):\n",
    "    score = analyzer.polarity_scores(str(text))  # ensure text is not NaN\n",
    "    return score['compound']\n",
    "\n",
    "# Create sentiment score and label\n",
    "reviews_df['SentimentScore'] = reviews_df['review_text'].apply(analyze_sentiment)\n",
    "\n",
    "def get_label(score):\n",
    "    if score >= 0.05:\n",
    "        return \"Positive\"\n",
    "    elif score <= -0.05:\n",
    "        return \"Negative\"\n",
    "    else:\n",
    "        return \"Neutral\"\n",
    "\n",
    "reviews_df['SentimentLabel'] = reviews_df['SentimentScore'].apply(get_label)"
   ]
  },
  {
   "cell_type": "code",
   "execution_count": 5,
   "id": "b85cd0ac-55f9-4a1e-9970-3b87417bd123",
   "metadata": {},
   "outputs": [
    {
     "name": "stderr",
     "output_type": "stream",
     "text": [
      "C:\\Users\\Acer\\AppData\\Local\\Temp\\ipykernel_4532\\1845984529.py:6: FutureWarning: A value is trying to be set on a copy of a DataFrame or Series through chained assignment using an inplace method.\n",
      "The behavior will change in pandas 3.0. This inplace method will never work because the intermediate object on which we are setting values always behaves as a copy.\n",
      "\n",
      "For example, when doing 'df[col].method(value, inplace=True)', try using 'df.method({col: value}, inplace=True)' or df[col] = df[col].method(value) instead, to perform the operation inplace on the original object.\n",
      "\n",
      "\n",
      "  customer_df['SentimentScore'].fillna(0.0, inplace=True)\n",
      "C:\\Users\\Acer\\AppData\\Local\\Temp\\ipykernel_4532\\1845984529.py:7: FutureWarning: A value is trying to be set on a copy of a DataFrame or Series through chained assignment using an inplace method.\n",
      "The behavior will change in pandas 3.0. This inplace method will never work because the intermediate object on which we are setting values always behaves as a copy.\n",
      "\n",
      "For example, when doing 'df[col].method(value, inplace=True)', try using 'df.method({col: value}, inplace=True)' or df[col] = df[col].method(value) instead, to perform the operation inplace on the original object.\n",
      "\n",
      "\n",
      "  customer_df['SentimentLabel'].fillna('Neutral', inplace=True)\n"
     ]
    }
   ],
   "source": [
    "# Merge by index — aligns the first review with the first customer\n",
    "customer_df['SentimentScore'] = reviews_df['SentimentScore'].reindex(customer_df.index)\n",
    "customer_df['SentimentLabel'] = reviews_df['SentimentLabel'].reindex(customer_df.index)\n",
    "\n",
    "# Optional: fill missing values\n",
    "customer_df['SentimentScore'].fillna(0.0, inplace=True)\n",
    "customer_df['SentimentLabel'].fillna('Neutral', inplace=True)"
   ]
  },
  {
   "cell_type": "code",
   "execution_count": 6,
   "id": "75bf8473-7db9-4556-90f1-aeac97f4b3b4",
   "metadata": {},
   "outputs": [],
   "source": [
    "sentiment_dummies = pd.get_dummies(customer_df['SentimentLabel'], prefix='Sentiment')\n",
    "customer_df = pd.concat([customer_df, sentiment_dummies], axis=1)\n",
    "\n",
    "# Optional: drop text label\n",
    "customer_df.drop('SentimentLabel', axis=1, inplace=True)"
   ]
  },
  {
   "cell_type": "code",
   "execution_count": 7,
   "id": "f1d6b0e2-0571-47ac-b1f6-a4ee569f9f19",
   "metadata": {},
   "outputs": [
    {
     "name": "stdout",
     "output_type": "stream",
     "text": [
      "✅ Saved as customer_clv_with_sentiment.csv\n"
     ]
    }
   ],
   "source": [
    "customer_df.to_csv(\"customer_clv_with_sentiment.csv\", index=False)\n",
    "print(\"✅ Saved as customer_clv_with_sentiment.csv\")"
   ]
  },
  {
   "cell_type": "code",
   "execution_count": null,
   "id": "0483bab3-e1cd-4b95-8872-bd17e8072cf9",
   "metadata": {},
   "outputs": [],
   "source": []
  }
 ],
 "metadata": {
  "kernelspec": {
   "display_name": "Python 3 (ipykernel)",
   "language": "python",
   "name": "python3"
  },
  "language_info": {
   "codemirror_mode": {
    "name": "ipython",
    "version": 3
   },
   "file_extension": ".py",
   "mimetype": "text/x-python",
   "name": "python",
   "nbconvert_exporter": "python",
   "pygments_lexer": "ipython3",
   "version": "3.12.7"
  }
 },
 "nbformat": 4,
 "nbformat_minor": 5
}
